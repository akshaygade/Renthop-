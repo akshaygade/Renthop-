{
 "cells": [
  {
   "cell_type": "code",
   "execution_count": 336,
   "metadata": {
    "collapsed": true
   },
   "outputs": [],
   "source": [
    "import re\n",
    "import pandas as pd\n",
    "import numpy as np\n",
    "%matplotlib inline \n",
    "import seaborn as sns\n",
    "import matplotlib.pyplot as plt\n",
    "from sklearn import datasets\n",
    "from textblob import TextBlob\n",
    "from sklearn.cluster import KMeans\n",
    "import sklearn.metrics as sm\n",
    "from collections import Counter"
   ]
  },
  {
   "cell_type": "code",
   "execution_count": 337,
   "metadata": {
    "collapsed": true
   },
   "outputs": [],
   "source": [
    "data = pd.read_json('data.json')"
   ]
  },
  {
   "cell_type": "code",
   "execution_count": 338,
   "metadata": {
    "collapsed": true
   },
   "outputs": [],
   "source": [
    "df = pd.DataFrame(data)\n",
    "pd.options.display.max_colwidth = 100"
   ]
  },
  {
   "cell_type": "code",
   "execution_count": 339,
   "metadata": {},
   "outputs": [],
   "source": [
    "#Transforming columns into numerical features\n",
    "df['no_of_photos'] = df['photos'].apply(len)\n",
    "df['no_of_features'] = df['features'].apply(len)\n",
    "df['interest_num'] = df['interest_level'].map({'low': 0, 'medium': 1, 'high': 2})\n",
    "df[\"n_words\"] = df[\"description\"].apply(lambda x: len(x.split(\" \")))\n",
    "df[\"created\"] = pd.to_datetime(df[\"created\"])\n",
    "df[\"created_year\"] = df[\"created\"].dt.year\n",
    "df[\"created_month\"] = df[\"created\"].dt.month\n",
    "df[\"created_day\"] = df[\"created\"].dt.day"
   ]
  },
  {
   "cell_type": "code",
   "execution_count": 352,
   "metadata": {},
   "outputs": [
    {
     "data": {
      "text/html": [
       "<div>\n",
       "<style>\n",
       "    .dataframe thead tr:only-child th {\n",
       "        text-align: right;\n",
       "    }\n",
       "\n",
       "    .dataframe thead th {\n",
       "        text-align: left;\n",
       "    }\n",
       "\n",
       "    .dataframe tbody tr th {\n",
       "        vertical-align: top;\n",
       "    }\n",
       "</style>\n",
       "<table border=\"1\" class=\"dataframe\">\n",
       "  <thead>\n",
       "    <tr style=\"text-align: right;\">\n",
       "      <th></th>\n",
       "      <th>level_0</th>\n",
       "      <th>index</th>\n",
       "      <th>bathrooms</th>\n",
       "      <th>bedrooms</th>\n",
       "      <th>building_id</th>\n",
       "      <th>created</th>\n",
       "      <th>description</th>\n",
       "      <th>display_address</th>\n",
       "      <th>features</th>\n",
       "      <th>interest_level</th>\n",
       "      <th>...</th>\n",
       "      <th>photos</th>\n",
       "      <th>price</th>\n",
       "      <th>street_address</th>\n",
       "      <th>no_of_photos</th>\n",
       "      <th>no_of_features</th>\n",
       "      <th>interest_num</th>\n",
       "      <th>n_words</th>\n",
       "      <th>created_year</th>\n",
       "      <th>created_month</th>\n",
       "      <th>created_day</th>\n",
       "    </tr>\n",
       "  </thead>\n",
       "  <tbody>\n",
       "    <tr>\n",
       "      <th>0</th>\n",
       "      <td>0</td>\n",
       "      <td>10</td>\n",
       "      <td>1.5</td>\n",
       "      <td>3</td>\n",
       "      <td>53a5b119ba8f7b61d4e010512e0dfc85</td>\n",
       "      <td>2016-06-24 07:54:24</td>\n",
       "      <td>A Brand New 3 Bedroom 1.5 bath ApartmentEnjoy These Following Apartment Features As You Rent Her...</td>\n",
       "      <td>Metropolitan Avenue</td>\n",
       "      <td>[]</td>\n",
       "      <td>medium</td>\n",
       "      <td>...</td>\n",
       "      <td>[https://photos.renthop.com/2/7211212_1ed4542ec81621d70d1061aa833e669c.jpg, https://photos.renth...</td>\n",
       "      <td>3000</td>\n",
       "      <td>792 Metropolitan Avenue</td>\n",
       "      <td>5</td>\n",
       "      <td>0</td>\n",
       "      <td>1</td>\n",
       "      <td>95</td>\n",
       "      <td>2016</td>\n",
       "      <td>6</td>\n",
       "      <td>24</td>\n",
       "    </tr>\n",
       "    <tr>\n",
       "      <th>1</th>\n",
       "      <td>1</td>\n",
       "      <td>10000</td>\n",
       "      <td>1.0</td>\n",
       "      <td>2</td>\n",
       "      <td>c5c8a357cba207596b04d1afd1e4f130</td>\n",
       "      <td>2016-06-12 12:19:27</td>\n",
       "      <td></td>\n",
       "      <td>Columbus Avenue</td>\n",
       "      <td>[Doorman, Elevator, Fitness Center, Cats Allowed, Dogs Allowed]</td>\n",
       "      <td>low</td>\n",
       "      <td>...</td>\n",
       "      <td>[https://photos.renthop.com/2/7150865_be3306c5d89c6bfa755c6e89c9ed64d5.jpg, https://photos.renth...</td>\n",
       "      <td>5465</td>\n",
       "      <td>808 Columbus Avenue</td>\n",
       "      <td>11</td>\n",
       "      <td>5</td>\n",
       "      <td>0</td>\n",
       "      <td>9</td>\n",
       "      <td>2016</td>\n",
       "      <td>6</td>\n",
       "      <td>12</td>\n",
       "    </tr>\n",
       "    <tr>\n",
       "      <th>2</th>\n",
       "      <td>2</td>\n",
       "      <td>100004</td>\n",
       "      <td>1.0</td>\n",
       "      <td>1</td>\n",
       "      <td>c3ba40552e2120b0acfc3cb5730bb2aa</td>\n",
       "      <td>2016-04-17 03:26:41</td>\n",
       "      <td>Top Top West Village location, beautiful Pre-war building with laundry in the basement and live ...</td>\n",
       "      <td>W 13 Street</td>\n",
       "      <td>[Laundry In Building, Dishwasher, Hardwood Floors, Pets Allowed Case by Case]</td>\n",
       "      <td>high</td>\n",
       "      <td>...</td>\n",
       "      <td>[https://photos.renthop.com/2/6887163_de85c427363a2e6d736a5df96d8d5541.jpg, https://photos.renth...</td>\n",
       "      <td>2850</td>\n",
       "      <td>241 W 13 Street</td>\n",
       "      <td>8</td>\n",
       "      <td>4</td>\n",
       "      <td>2</td>\n",
       "      <td>94</td>\n",
       "      <td>2016</td>\n",
       "      <td>4</td>\n",
       "      <td>17</td>\n",
       "    </tr>\n",
       "    <tr>\n",
       "      <th>3</th>\n",
       "      <td>3</td>\n",
       "      <td>100007</td>\n",
       "      <td>1.0</td>\n",
       "      <td>1</td>\n",
       "      <td>28d9ad350afeaab8027513a3e52ac8d5</td>\n",
       "      <td>2016-04-18 02:22:02</td>\n",
       "      <td>Building Amenities - Garage - Garden - fitness room - laundry room -rooftop deck .&lt;br /&gt;&lt;br /&gt;Lo...</td>\n",
       "      <td>East 49th Street</td>\n",
       "      <td>[Hardwood Floors, No Fee]</td>\n",
       "      <td>low</td>\n",
       "      <td>...</td>\n",
       "      <td>[https://photos.renthop.com/2/6888711_6e660cee4f508b476568a4b4c1160c20.jpg, https://photos.renth...</td>\n",
       "      <td>3275</td>\n",
       "      <td>333 East 49th Street</td>\n",
       "      <td>3</td>\n",
       "      <td>2</td>\n",
       "      <td>0</td>\n",
       "      <td>80</td>\n",
       "      <td>2016</td>\n",
       "      <td>4</td>\n",
       "      <td>18</td>\n",
       "    </tr>\n",
       "    <tr>\n",
       "      <th>4</th>\n",
       "      <td>4</td>\n",
       "      <td>100013</td>\n",
       "      <td>1.0</td>\n",
       "      <td>4</td>\n",
       "      <td>0</td>\n",
       "      <td>2016-04-28 01:32:41</td>\n",
       "      <td>Beautifully renovated 3 bedroom flex 4 bedroom apartment for rent. Available immediately. Elevat...</td>\n",
       "      <td>West 143rd Street</td>\n",
       "      <td>[Pre-War]</td>\n",
       "      <td>low</td>\n",
       "      <td>...</td>\n",
       "      <td>[https://photos.renthop.com/2/6934781_1fa4b41a929865b9a5443fdaf78d0147.jpg, https://photos.renth...</td>\n",
       "      <td>3350</td>\n",
       "      <td>500 West 143rd Street</td>\n",
       "      <td>3</td>\n",
       "      <td>1</td>\n",
       "      <td>0</td>\n",
       "      <td>68</td>\n",
       "      <td>2016</td>\n",
       "      <td>4</td>\n",
       "      <td>28</td>\n",
       "    </tr>\n",
       "  </tbody>\n",
       "</table>\n",
       "<p>5 rows × 24 columns</p>\n",
       "</div>"
      ],
      "text/plain": [
       "   level_0   index  bathrooms  bedrooms                       building_id  \\\n",
       "0        0      10        1.5         3  53a5b119ba8f7b61d4e010512e0dfc85   \n",
       "1        1   10000        1.0         2  c5c8a357cba207596b04d1afd1e4f130   \n",
       "2        2  100004        1.0         1  c3ba40552e2120b0acfc3cb5730bb2aa   \n",
       "3        3  100007        1.0         1  28d9ad350afeaab8027513a3e52ac8d5   \n",
       "4        4  100013        1.0         4                                 0   \n",
       "\n",
       "              created  \\\n",
       "0 2016-06-24 07:54:24   \n",
       "1 2016-06-12 12:19:27   \n",
       "2 2016-04-17 03:26:41   \n",
       "3 2016-04-18 02:22:02   \n",
       "4 2016-04-28 01:32:41   \n",
       "\n",
       "                                                                                           description  \\\n",
       "0  A Brand New 3 Bedroom 1.5 bath ApartmentEnjoy These Following Apartment Features As You Rent Her...   \n",
       "1                                                                                                        \n",
       "2  Top Top West Village location, beautiful Pre-war building with laundry in the basement and live ...   \n",
       "3  Building Amenities - Garage - Garden - fitness room - laundry room -rooftop deck .<br /><br />Lo...   \n",
       "4  Beautifully renovated 3 bedroom flex 4 bedroom apartment for rent. Available immediately. Elevat...   \n",
       "\n",
       "       display_address  \\\n",
       "0  Metropolitan Avenue   \n",
       "1      Columbus Avenue   \n",
       "2          W 13 Street   \n",
       "3     East 49th Street   \n",
       "4    West 143rd Street   \n",
       "\n",
       "                                                                        features  \\\n",
       "0                                                                             []   \n",
       "1                [Doorman, Elevator, Fitness Center, Cats Allowed, Dogs Allowed]   \n",
       "2  [Laundry In Building, Dishwasher, Hardwood Floors, Pets Allowed Case by Case]   \n",
       "3                                                      [Hardwood Floors, No Fee]   \n",
       "4                                                                      [Pre-War]   \n",
       "\n",
       "  interest_level     ...       \\\n",
       "0         medium     ...        \n",
       "1            low     ...        \n",
       "2           high     ...        \n",
       "3            low     ...        \n",
       "4            low     ...        \n",
       "\n",
       "                                                                                                photos  \\\n",
       "0  [https://photos.renthop.com/2/7211212_1ed4542ec81621d70d1061aa833e669c.jpg, https://photos.renth...   \n",
       "1  [https://photos.renthop.com/2/7150865_be3306c5d89c6bfa755c6e89c9ed64d5.jpg, https://photos.renth...   \n",
       "2  [https://photos.renthop.com/2/6887163_de85c427363a2e6d736a5df96d8d5541.jpg, https://photos.renth...   \n",
       "3  [https://photos.renthop.com/2/6888711_6e660cee4f508b476568a4b4c1160c20.jpg, https://photos.renth...   \n",
       "4  [https://photos.renthop.com/2/6934781_1fa4b41a929865b9a5443fdaf78d0147.jpg, https://photos.renth...   \n",
       "\n",
       "   price           street_address no_of_photos no_of_features  interest_num  \\\n",
       "0   3000  792 Metropolitan Avenue            5              0             1   \n",
       "1   5465      808 Columbus Avenue           11              5             0   \n",
       "2   2850          241 W 13 Street            8              4             2   \n",
       "3   3275     333 East 49th Street            3              2             0   \n",
       "4   3350    500 West 143rd Street            3              1             0   \n",
       "\n",
       "  n_words  created_year  created_month  created_day  \n",
       "0      95          2016              6           24  \n",
       "1       9          2016              6           12  \n",
       "2      94          2016              4           17  \n",
       "3      80          2016              4           18  \n",
       "4      68          2016              4           28  \n",
       "\n",
       "[5 rows x 24 columns]"
      ]
     },
     "execution_count": 352,
     "metadata": {},
     "output_type": "execute_result"
    }
   ],
   "source": [
    "df = df.reset_index()\n",
    "df.head()\n"
   ]
  },
  {
   "cell_type": "code",
   "execution_count": 8,
   "metadata": {
    "collapsed": true
   },
   "outputs": [],
   "source": [
    "#Removing outliers from latitute and longitude as we got the scatter plot like this\n"
   ]
  },
  {
   "cell_type": "code",
   "execution_count": 254,
   "metadata": {},
   "outputs": [
    {
     "data": {
      "image/png": "[encoded data removed]",
      "text/plain": [
       "<matplotlib.figure.Figure at 0x13ad8b898>"
      ]
     },
     "metadata": {},
     "output_type": "display_data"
    }
   ],
   "source": [
    "fig, ax = plt.subplots()\n",
    "fig.set_size_inches(10, 6)\n",
    "scatter = ax.scatter(df['longitude'], df['latitude'], c='m', edgecolor='k', alpha=.4, s=150)\n"
   ]
  },
  {
   "cell_type": "code",
   "execution_count": 255,
   "metadata": {
    "collapsed": true
   },
   "outputs": [],
   "source": [
    "plt.show(scatter)"
   ]
  },
  {
   "cell_type": "code",
   "execution_count": 11,
   "metadata": {
    "collapsed": true
   },
   "outputs": [],
   "source": [
    "# #Removing outliers from latitude and longitude using median and standard deviation\n",
    "\n",
    "# x1 = df['latitude'].median()\n",
    "# y1 = df['latitude'].std()\n",
    "\n",
    "# x2 = df['longitude'].median()\n",
    "# y2 = df['longitude'].std()\n",
    "\n",
    "# for i in range(0,len(df)):\n",
    "#     if (i>x1-2*y1):\n",
    "#         df['latitude'] == i\n",
    "#     else:\n",
    "#         df['latitude'] == 0\n",
    "        \n",
    "# for i in range(0,len(df)):\n",
    "#     if (i>x2 -2*y2):\n",
    "#         df['longitude'] == i\n",
    "#     else:\n",
    "#         df['longitude'] == 0\n",
    "\n",
    "\n",
    "\n"
   ]
  },
  {
   "cell_type": "code",
   "execution_count": 256,
   "metadata": {
    "collapsed": true
   },
   "outputs": [],
   "source": [
    "x = df\n",
    "latmean = x['latitude'].mean()\n",
    "\n",
    "lonmean = x['longitude'].mean()\n",
    "\n",
    "x=x.reset_index()"
   ]
  },
  {
   "cell_type": "code",
   "execution_count": 257,
   "metadata": {
    "collapsed": true
   },
   "outputs": [],
   "source": [
    "faa=[]\n",
    "for i in range(0,len(x)):\n",
    "    faa.append(np.sqrt(((x['latitude'][i] - latmean) * (x['latitude'][i] - latmean) ) + ((x['longitude'][i] - lonmean) * (x['longitude'][i] - lonmean)) ))"
   ]
  },
  {
   "cell_type": "code",
   "execution_count": 258,
   "metadata": {
    "collapsed": true
   },
   "outputs": [],
   "source": [
    "x['distance'] = faa"
   ]
  },
  {
   "cell_type": "code",
   "execution_count": 259,
   "metadata": {
    "collapsed": true
   },
   "outputs": [],
   "source": [
    "x = x[x['distance'] < 0.5] \n"
   ]
  },
  {
   "cell_type": "code",
   "execution_count": 260,
   "metadata": {},
   "outputs": [
    {
     "data": {
      "image/png": "[encoded data removed]",
      "text/plain": [
       "<matplotlib.figure.Figure at 0x13ad7f0f0>"
      ]
     },
     "metadata": {},
     "output_type": "display_data"
    }
   ],
   "source": [
    "fig, ax = plt.subplots()\n",
    "fig.set_size_inches(10, 6)\n",
    "scatter = ax.scatter(x['longitude'], x['latitude'], c='m', edgecolor='k', alpha=.4, s=20)\n",
    "plt.show()"
   ]
  },
  {
   "cell_type": "code",
   "execution_count": 262,
   "metadata": {},
   "outputs": [
    {
     "name": "stderr",
     "output_type": "stream",
     "text": [
      "/Users/akshaygade/anaconda3/lib/python3.6/site-packages/ipykernel_launcher.py:4: FutureWarning: reshape is deprecated and will raise in a subsequent release. Please use .values.reshape(...) instead\n",
      "  after removing the cwd from sys.path.\n"
     ]
    }
   ],
   "source": [
    "# K Means Cluster\n",
    "ncomp = 5\n",
    "km = KMeans(ncomp, random_state=1)\n",
    "km.fit(x['latitude'].reshape(-1,1))\n",
    "x['labels'] = km.labels_\n"
   ]
  },
  {
   "cell_type": "code",
   "execution_count": 109,
   "metadata": {
    "collapsed": true
   },
   "outputs": [],
   "source": [
    "cols = sns.color_palette(\"RdBu\", n_colors=ncomp, desat=.5)"
   ]
  },
  {
   "cell_type": "code",
   "execution_count": 110,
   "metadata": {
    "collapsed": true
   },
   "outputs": [],
   "source": [
    "X = x[['latitude','longitude']].values"
   ]
  },
  {
   "cell_type": "code",
   "execution_count": 111,
   "metadata": {
    "collapsed": true
   },
   "outputs": [],
   "source": [
    "wcss = []\n",
    "for i in range(1, 11):\n",
    "    kmeans = KMeans(n_clusters = i+5, init = 'k-means++', random_state = 42)\n",
    "    kmeans.fit(X)\n",
    "    wcss.append(kmeans.inertia_)"
   ]
  },
  {
   "cell_type": "code",
   "execution_count": 112,
   "metadata": {},
   "outputs": [
    {
     "data": {
      "image/png": "[encoded data removed]",
      "text/plain": [
       "<matplotlib.figure.Figure at 0x130d770b8>"
      ]
     },
     "metadata": {},
     "output_type": "display_data"
    }
   ],
   "source": [
    "plt.plot(range(1, 11), wcss)\n",
    "plt.title('The Elbow Method')\n",
    "plt.xlabel('Number of clusters')\n",
    "plt.ylabel('WCSS')\n",
    "plt.show()"
   ]
  },
  {
   "cell_type": "code",
   "execution_count": 113,
   "metadata": {
    "collapsed": true
   },
   "outputs": [],
   "source": [
    "#Visualizing the clusters\n",
    "kmeans = KMeans(n_clusters = 5, init = 'k-means++', random_state = 42)\n",
    "y_kmeans = kmeans.fit_predict(X)"
   ]
  },
  {
   "cell_type": "code",
   "execution_count": 114,
   "metadata": {},
   "outputs": [
    {
     "data": {
      "text/plain": [
       "array([3, 1, 0, ..., 0, 0, 2], dtype=int32)"
      ]
     },
     "execution_count": 114,
     "metadata": {},
     "output_type": "execute_result"
    }
   ],
   "source": [
    "y_kmeans"
   ]
  },
  {
   "cell_type": "code",
   "execution_count": 115,
   "metadata": {},
   "outputs": [
    {
     "data": {
      "text/plain": [
       "<matplotlib.collections.PathCollection at 0x130da2c88>"
      ]
     },
     "execution_count": 115,
     "metadata": {},
     "output_type": "execute_result"
    },
    {
     "data": {
      "image/png": "[encoded data removed]",
      "text/plain": [
       "<matplotlib.figure.Figure at 0x130d3ccc0>"
      ]
     },
     "metadata": {},
     "output_type": "display_data"
    }
   ],
   "source": [
    "import matplotlib.style as style\n",
    "style.use('fivethirtyeight')\n",
    "fig.set_size_inches(10, 6)\n",
    "plt.scatter(X[y_kmeans == 0, 0], X[y_kmeans == 0, 1], s = 20, c = 'red', label = 'Cluster 1')\n",
    "plt.scatter(X[y_kmeans == 1, 0], X[y_kmeans == 1, 1], s = 20, c = 'blue', label = 'Cluster 2')\n",
    "plt.scatter(X[y_kmeans == 2, 0], X[y_kmeans == 2, 1], s = 20, c = 'green', label = 'Cluster 3')\n",
    "plt.scatter(X[y_kmeans == 3, 0], X[y_kmeans == 3, 1], s = 20, c = 'cyan', label = 'Cluster 4')\n",
    "plt.scatter(X[y_kmeans == 4, 0], X[y_kmeans == 4, 1], s = 20, c = 'magenta', label = 'Cluster 5')\n",
    "plt.scatter(kmeans.cluster_centers_[:, 0], kmeans.cluster_centers_[:, 1], s = 40, c = 'yellow', label = 'Centroids')\n"
   ]
  },
  {
   "cell_type": "markdown",
   "metadata": {},
   "source": [
    "# Text Analysis"
   ]
  },
  {
   "cell_type": "code",
   "execution_count": 341,
   "metadata": {},
   "outputs": [],
   "source": [
    "features_list=df.features.tolist()\n",
    "# features_list"
   ]
  },
  {
   "cell_type": "code",
   "execution_count": 342,
   "metadata": {
    "collapsed": true
   },
   "outputs": [],
   "source": [
    "words = str(features_list).split()"
   ]
  },
  {
   "cell_type": "code",
   "execution_count": 343,
   "metadata": {
    "collapsed": true
   },
   "outputs": [],
   "source": [
    "Counter = Counter(words)"
   ]
  },
  {
   "cell_type": "code",
   "execution_count": 351,
   "metadata": {},
   "outputs": [
    {
     "data": {
      "text/plain": [
       "[(\"'Laundry\", 27147),\n",
       " ('in', 25659),\n",
       " (\"'Hardwood\", 21823),\n",
       " (\"'Dogs\", 21430),\n",
       " (\"'Cats\", 20296),\n",
       " (\"'Elevator',\", 20193),\n",
       " (\"'Dishwasher',\", 18552),\n",
       " (\"Allowed'],\", 17956),\n",
       " (\"Floors',\", 17230),\n",
       " (\"'No\", 17091),\n",
       " (\"Building',\", 16549),\n",
       " (\"Center',\", 13047),\n",
       " (\"'Fitness\", 12645),\n",
       " (\"Fee',\", 11560),\n",
       " (\"'Doorman',\", 11062),\n",
       " (\"Unit',\", 9730),\n",
       " (\"['Doorman',\", 9533),\n",
       " (\"Fee'],\", 7208),\n",
       " (\"Deck',\", 6510),\n",
       " (\"Floors'],\", 6303),\n",
       " (\"'Outdoor\", 5371),\n",
       " (\"Room',\", 5309),\n",
       " (\"Space',\", 5010),\n",
       " (\"'Pre-War',\", 4938),\n",
       " (\"'High\", 4865),\n",
       " (\"['Roof\", 4676),\n",
       " (\"['Elevator',\", 4479),\n",
       " ('Speed', 4303),\n",
       " (\"Internet',\", 4268)]"
      ]
     },
     "execution_count": 351,
     "metadata": {},
     "output_type": "execute_result"
    }
   ],
   "source": [
    "most_occur = Counter.most_common(100)\n",
    "most_occur[1:30]"
   ]
  },
  {
   "cell_type": "markdown",
   "metadata": {},
   "source": [
    "# Sentiment Analysis"
   ]
  },
  {
   "cell_type": "code",
   "execution_count": 547,
   "metadata": {
    "collapsed": true
   },
   "outputs": [],
   "source": [
    "#Tokenizing sentences usning nltk sent_tokenize"
   ]
  },
  {
   "cell_type": "code",
   "execution_count": 263,
   "metadata": {},
   "outputs": [
    {
     "name": "stderr",
     "output_type": "stream",
     "text": [
      "/Users/akshaygade/anaconda3/lib/python3.6/site-packages/nltk/twitter/__init__.py:20: UserWarning: The twython library has not been installed. Some functionality from the twitter package will not be available.\n",
      "  warnings.warn(\"The twython library has not been installed. \"\n"
     ]
    }
   ],
   "source": [
    "from nltk import sent_tokenize\n",
    "from nltk.sentiment.vader import SentimentIntensityAnalyzer as SIA\n",
    "df['tokens'] = df['description'].apply(sent_tokenize)"
   ]
  },
  {
   "cell_type": "code",
   "execution_count": 264,
   "metadata": {
    "collapsed": true
   },
   "outputs": [],
   "source": [
    "def sentiment(words):\n",
    "    polarity = SIA()\n",
    "    output = []\n",
    "    for word in words:\n",
    "        out = polarity.polarity_scores(word)\n",
    "        output.append(out)\n",
    "    return pd.DataFrame(output).mean()"
   ]
  },
  {
   "cell_type": "code",
   "execution_count": 265,
   "metadata": {
    "collapsed": true
   },
   "outputs": [],
   "source": [
    "df2 = df['tokens'].apply(sentiment)"
   ]
  },
  {
   "cell_type": "code",
   "execution_count": 271,
   "metadata": {},
   "outputs": [
    {
     "data": {
      "text/html": [
       "<div>\n",
       "<style>\n",
       "    .dataframe thead tr:only-child th {\n",
       "        text-align: right;\n",
       "    }\n",
       "\n",
       "    .dataframe thead th {\n",
       "        text-align: left;\n",
       "    }\n",
       "\n",
       "    .dataframe tbody tr th {\n",
       "        vertical-align: top;\n",
       "    }\n",
       "</style>\n",
       "<table border=\"1\" class=\"dataframe\">\n",
       "  <thead>\n",
       "    <tr style=\"text-align: right;\">\n",
       "      <th></th>\n",
       "      <th>compound</th>\n",
       "      <th>neg</th>\n",
       "      <th>neu</th>\n",
       "      <th>pos</th>\n",
       "    </tr>\n",
       "  </thead>\n",
       "  <tbody>\n",
       "    <tr>\n",
       "      <th>0</th>\n",
       "      <td>0.117278</td>\n",
       "      <td>0.005222</td>\n",
       "      <td>0.912111</td>\n",
       "      <td>0.082667</td>\n",
       "    </tr>\n",
       "    <tr>\n",
       "      <th>1</th>\n",
       "      <td>NaN</td>\n",
       "      <td>NaN</td>\n",
       "      <td>NaN</td>\n",
       "      <td>NaN</td>\n",
       "    </tr>\n",
       "    <tr>\n",
       "      <th>2</th>\n",
       "      <td>0.571375</td>\n",
       "      <td>0.000000</td>\n",
       "      <td>0.798000</td>\n",
       "      <td>0.202000</td>\n",
       "    </tr>\n",
       "    <tr>\n",
       "      <th>3</th>\n",
       "      <td>0.305700</td>\n",
       "      <td>0.000000</td>\n",
       "      <td>0.948500</td>\n",
       "      <td>0.051500</td>\n",
       "    </tr>\n",
       "    <tr>\n",
       "      <th>4</th>\n",
       "      <td>0.097010</td>\n",
       "      <td>0.039400</td>\n",
       "      <td>0.887800</td>\n",
       "      <td>0.072800</td>\n",
       "    </tr>\n",
       "  </tbody>\n",
       "</table>\n",
       "</div>"
      ],
      "text/plain": [
       "   compound       neg       neu       pos\n",
       "0  0.117278  0.005222  0.912111  0.082667\n",
       "1       NaN       NaN       NaN       NaN\n",
       "2  0.571375  0.000000  0.798000  0.202000\n",
       "3  0.305700  0.000000  0.948500  0.051500\n",
       "4  0.097010  0.039400  0.887800  0.072800"
      ]
     },
     "execution_count": 271,
     "metadata": {},
     "output_type": "execute_result"
    }
   ],
   "source": [
    "df2.head()"
   ]
  },
  {
   "cell_type": "code",
   "execution_count": 272,
   "metadata": {},
   "outputs": [
    {
     "data": {
      "text/html": [
       "<div>\n",
       "<style>\n",
       "    .dataframe thead tr:only-child th {\n",
       "        text-align: right;\n",
       "    }\n",
       "\n",
       "    .dataframe thead th {\n",
       "        text-align: left;\n",
       "    }\n",
       "\n",
       "    .dataframe tbody tr th {\n",
       "        vertical-align: top;\n",
       "    }\n",
       "</style>\n",
       "<table border=\"1\" class=\"dataframe\">\n",
       "  <thead>\n",
       "    <tr style=\"text-align: right;\">\n",
       "      <th></th>\n",
       "      <th>compound</th>\n",
       "      <th>neg</th>\n",
       "      <th>neu</th>\n",
       "      <th>pos</th>\n",
       "      <th>interest_level</th>\n",
       "    </tr>\n",
       "  </thead>\n",
       "  <tbody>\n",
       "    <tr>\n",
       "      <th>0</th>\n",
       "      <td>0.117278</td>\n",
       "      <td>0.005222</td>\n",
       "      <td>0.912111</td>\n",
       "      <td>0.082667</td>\n",
       "      <td>medium</td>\n",
       "    </tr>\n",
       "    <tr>\n",
       "      <th>1</th>\n",
       "      <td>NaN</td>\n",
       "      <td>NaN</td>\n",
       "      <td>NaN</td>\n",
       "      <td>NaN</td>\n",
       "      <td>low</td>\n",
       "    </tr>\n",
       "    <tr>\n",
       "      <th>2</th>\n",
       "      <td>0.571375</td>\n",
       "      <td>0.000000</td>\n",
       "      <td>0.798000</td>\n",
       "      <td>0.202000</td>\n",
       "      <td>high</td>\n",
       "    </tr>\n",
       "    <tr>\n",
       "      <th>3</th>\n",
       "      <td>0.305700</td>\n",
       "      <td>0.000000</td>\n",
       "      <td>0.948500</td>\n",
       "      <td>0.051500</td>\n",
       "      <td>low</td>\n",
       "    </tr>\n",
       "    <tr>\n",
       "      <th>4</th>\n",
       "      <td>0.097010</td>\n",
       "      <td>0.039400</td>\n",
       "      <td>0.887800</td>\n",
       "      <td>0.072800</td>\n",
       "      <td>low</td>\n",
       "    </tr>\n",
       "  </tbody>\n",
       "</table>\n",
       "</div>"
      ],
      "text/plain": [
       "   compound       neg       neu       pos interest_level\n",
       "0  0.117278  0.005222  0.912111  0.082667         medium\n",
       "1       NaN       NaN       NaN       NaN            low\n",
       "2  0.571375  0.000000  0.798000  0.202000           high\n",
       "3  0.305700  0.000000  0.948500  0.051500            low\n",
       "4  0.097010  0.039400  0.887800  0.072800            low"
      ]
     },
     "execution_count": 272,
     "metadata": {},
     "output_type": "execute_result"
    }
   ],
   "source": [
    "sentiment_data = pd.concat([df2,df['interest_level']],axis=1)\n",
    "sentiment_data.head()"
   ]
  },
  {
   "cell_type": "code",
   "execution_count": 273,
   "metadata": {},
   "outputs": [],
   "source": [
    "sns.set(style=\"darkgrid\", palette=\"pastel\", color_codes=True)"
   ]
  },
  {
   "cell_type": "code",
   "execution_count": 274,
   "metadata": {},
   "outputs": [
    {
     "data": {
      "image/png": "[encoded data removed]",
      "text/plain": [
       "<matplotlib.figure.Figure at 0x15819a748>"
      ]
     },
     "metadata": {},
     "output_type": "display_data"
    }
   ],
   "source": [
    "sns.boxplot(x=\"compound\", y=\"interest_level\", hue=\"interest_level\", data=sentiment_data);\n"
   ]
  },
  {
   "cell_type": "code",
   "execution_count": 275,
   "metadata": {},
   "outputs": [
    {
     "data": {
      "image/png": "[encoded data removed]",
      "text/plain": [
       "<matplotlib.figure.Figure at 0x158183780>"
      ]
     },
     "metadata": {},
     "output_type": "display_data"
    }
   ],
   "source": [
    "sns.boxplot(x=\"neg\", y=\"interest_level\", hue=\"interest_level\", data=sentiment_data);"
   ]
  },
  {
   "cell_type": "code",
   "execution_count": 276,
   "metadata": {},
   "outputs": [
    {
     "data": {
      "image/png": "[encoded data removed]",
      "text/plain": [
       "<matplotlib.figure.Figure at 0x11ad9dc88>"
      ]
     },
     "metadata": {},
     "output_type": "display_data"
    }
   ],
   "source": [
    "sns.boxplot(x=\"pos\", y=\"interest_level\", hue=\"interest_level\", data=sentiment_data);"
   ]
  },
  {
   "cell_type": "code",
   "execution_count": 277,
   "metadata": {},
   "outputs": [
    {
     "data": {
      "image/png": "[encoded data removed]",
      "text/plain": [
       "<matplotlib.figure.Figure at 0x138e0a438>"
      ]
     },
     "metadata": {},
     "output_type": "display_data"
    }
   ],
   "source": [
    "sns.boxplot(x=\"neu\", y=\"interest_level\", hue=\"interest_level\", data=sentiment_data);"
   ]
  },
  {
   "cell_type": "code",
   "execution_count": 48,
   "metadata": {},
   "outputs": [
    {
     "data": {
      "text/html": [
       "<div>\n",
       "<style>\n",
       "    .dataframe thead tr:only-child th {\n",
       "        text-align: right;\n",
       "    }\n",
       "\n",
       "    .dataframe thead th {\n",
       "        text-align: left;\n",
       "    }\n",
       "\n",
       "    .dataframe tbody tr th {\n",
       "        vertical-align: top;\n",
       "    }\n",
       "</style>\n",
       "<table border=\"1\" class=\"dataframe\">\n",
       "  <thead>\n",
       "    <tr style=\"text-align: right;\">\n",
       "      <th></th>\n",
       "      <th>index</th>\n",
       "      <th>bathrooms</th>\n",
       "      <th>bedrooms</th>\n",
       "      <th>building_id</th>\n",
       "      <th>created</th>\n",
       "      <th>description</th>\n",
       "      <th>display_address</th>\n",
       "      <th>features</th>\n",
       "      <th>interest_level</th>\n",
       "      <th>latitude</th>\n",
       "      <th>...</th>\n",
       "      <th>photos</th>\n",
       "      <th>price</th>\n",
       "      <th>street_address</th>\n",
       "      <th>no_of_photos</th>\n",
       "      <th>no_of_features</th>\n",
       "      <th>interest_num</th>\n",
       "      <th>n_words</th>\n",
       "      <th>created_year</th>\n",
       "      <th>created_month</th>\n",
       "      <th>created_day</th>\n",
       "    </tr>\n",
       "  </thead>\n",
       "  <tbody>\n",
       "    <tr>\n",
       "      <th>0</th>\n",
       "      <td>10</td>\n",
       "      <td>1.5</td>\n",
       "      <td>3</td>\n",
       "      <td>53a5b119ba8f7b61d4e010512e0dfc85</td>\n",
       "      <td>2016-06-24 07:54:24</td>\n",
       "      <td>A Brand New Bedroom bath ApartmentEnjoy These Following Apartment Features As You Rent Here Mode...</td>\n",
       "      <td>Metropolitan Avenue</td>\n",
       "      <td>[]</td>\n",
       "      <td>medium</td>\n",
       "      <td>40.7145</td>\n",
       "      <td>...</td>\n",
       "      <td>[https://photos.renthop.com/2/7211212_1ed4542ec81621d70d1061aa833e669c.jpg, https://photos.renth...</td>\n",
       "      <td>3000</td>\n",
       "      <td>792 Metropolitan Avenue</td>\n",
       "      <td>5</td>\n",
       "      <td>0</td>\n",
       "      <td>1</td>\n",
       "      <td>95</td>\n",
       "      <td>2016</td>\n",
       "      <td>6</td>\n",
       "      <td>24</td>\n",
       "    </tr>\n",
       "    <tr>\n",
       "      <th>1</th>\n",
       "      <td>10000</td>\n",
       "      <td>1.0</td>\n",
       "      <td>2</td>\n",
       "      <td>c5c8a357cba207596b04d1afd1e4f130</td>\n",
       "      <td>2016-06-12 12:19:27</td>\n",
       "      <td></td>\n",
       "      <td>Columbus Avenue</td>\n",
       "      <td>[Doorman, Elevator, Fitness Center, Cats Allowed, Dogs Allowed]</td>\n",
       "      <td>low</td>\n",
       "      <td>40.7947</td>\n",
       "      <td>...</td>\n",
       "      <td>[https://photos.renthop.com/2/7150865_be3306c5d89c6bfa755c6e89c9ed64d5.jpg, https://photos.renth...</td>\n",
       "      <td>5465</td>\n",
       "      <td>808 Columbus Avenue</td>\n",
       "      <td>11</td>\n",
       "      <td>5</td>\n",
       "      <td>0</td>\n",
       "      <td>9</td>\n",
       "      <td>2016</td>\n",
       "      <td>6</td>\n",
       "      <td>12</td>\n",
       "    </tr>\n",
       "    <tr>\n",
       "      <th>2</th>\n",
       "      <td>100004</td>\n",
       "      <td>1.0</td>\n",
       "      <td>1</td>\n",
       "      <td>c3ba40552e2120b0acfc3cb5730bb2aa</td>\n",
       "      <td>2016-04-17 03:26:41</td>\n",
       "      <td>Top Top West Village location beautiful Pre war building with laundry in the basement and live i...</td>\n",
       "      <td>W 13 Street</td>\n",
       "      <td>[Laundry In Building, Dishwasher, Hardwood Floors, Pets Allowed Case by Case]</td>\n",
       "      <td>high</td>\n",
       "      <td>40.7388</td>\n",
       "      <td>...</td>\n",
       "      <td>[https://photos.renthop.com/2/6887163_de85c427363a2e6d736a5df96d8d5541.jpg, https://photos.renth...</td>\n",
       "      <td>2850</td>\n",
       "      <td>241 W 13 Street</td>\n",
       "      <td>8</td>\n",
       "      <td>4</td>\n",
       "      <td>2</td>\n",
       "      <td>94</td>\n",
       "      <td>2016</td>\n",
       "      <td>4</td>\n",
       "      <td>17</td>\n",
       "    </tr>\n",
       "    <tr>\n",
       "      <th>3</th>\n",
       "      <td>100007</td>\n",
       "      <td>1.0</td>\n",
       "      <td>1</td>\n",
       "      <td>28d9ad350afeaab8027513a3e52ac8d5</td>\n",
       "      <td>2016-04-18 02:22:02</td>\n",
       "      <td>Building Amenities Garage Garden fitness room laundry room rooftop deck br br Located in midtown...</td>\n",
       "      <td>East 49th Street</td>\n",
       "      <td>[Hardwood Floors, No Fee]</td>\n",
       "      <td>low</td>\n",
       "      <td>40.7539</td>\n",
       "      <td>...</td>\n",
       "      <td>[https://photos.renthop.com/2/6888711_6e660cee4f508b476568a4b4c1160c20.jpg, https://photos.renth...</td>\n",
       "      <td>3275</td>\n",
       "      <td>333 East 49th Street</td>\n",
       "      <td>3</td>\n",
       "      <td>2</td>\n",
       "      <td>0</td>\n",
       "      <td>80</td>\n",
       "      <td>2016</td>\n",
       "      <td>4</td>\n",
       "      <td>18</td>\n",
       "    </tr>\n",
       "    <tr>\n",
       "      <th>4</th>\n",
       "      <td>100013</td>\n",
       "      <td>1.0</td>\n",
       "      <td>4</td>\n",
       "      <td>0</td>\n",
       "      <td>2016-04-28 01:32:41</td>\n",
       "      <td>Beautifully renovated bedroom flex bedroom apartment for rent Available immediately Elevator bui...</td>\n",
       "      <td>West 143rd Street</td>\n",
       "      <td>[Pre-War]</td>\n",
       "      <td>low</td>\n",
       "      <td>40.8241</td>\n",
       "      <td>...</td>\n",
       "      <td>[https://photos.renthop.com/2/6934781_1fa4b41a929865b9a5443fdaf78d0147.jpg, https://photos.renth...</td>\n",
       "      <td>3350</td>\n",
       "      <td>500 West 143rd Street</td>\n",
       "      <td>3</td>\n",
       "      <td>1</td>\n",
       "      <td>0</td>\n",
       "      <td>68</td>\n",
       "      <td>2016</td>\n",
       "      <td>4</td>\n",
       "      <td>28</td>\n",
       "    </tr>\n",
       "  </tbody>\n",
       "</table>\n",
       "<p>5 rows × 23 columns</p>\n",
       "</div>"
      ],
      "text/plain": [
       "    index  bathrooms  bedrooms                       building_id  \\\n",
       "0      10        1.5         3  53a5b119ba8f7b61d4e010512e0dfc85   \n",
       "1   10000        1.0         2  c5c8a357cba207596b04d1afd1e4f130   \n",
       "2  100004        1.0         1  c3ba40552e2120b0acfc3cb5730bb2aa   \n",
       "3  100007        1.0         1  28d9ad350afeaab8027513a3e52ac8d5   \n",
       "4  100013        1.0         4                                 0   \n",
       "\n",
       "              created  \\\n",
       "0 2016-06-24 07:54:24   \n",
       "1 2016-06-12 12:19:27   \n",
       "2 2016-04-17 03:26:41   \n",
       "3 2016-04-18 02:22:02   \n",
       "4 2016-04-28 01:32:41   \n",
       "\n",
       "                                                                                           description  \\\n",
       "0  A Brand New Bedroom bath ApartmentEnjoy These Following Apartment Features As You Rent Here Mode...   \n",
       "1                                                                                                        \n",
       "2  Top Top West Village location beautiful Pre war building with laundry in the basement and live i...   \n",
       "3  Building Amenities Garage Garden fitness room laundry room rooftop deck br br Located in midtown...   \n",
       "4  Beautifully renovated bedroom flex bedroom apartment for rent Available immediately Elevator bui...   \n",
       "\n",
       "       display_address  \\\n",
       "0  Metropolitan Avenue   \n",
       "1      Columbus Avenue   \n",
       "2          W 13 Street   \n",
       "3     East 49th Street   \n",
       "4    West 143rd Street   \n",
       "\n",
       "                                                                        features  \\\n",
       "0                                                                             []   \n",
       "1                [Doorman, Elevator, Fitness Center, Cats Allowed, Dogs Allowed]   \n",
       "2  [Laundry In Building, Dishwasher, Hardwood Floors, Pets Allowed Case by Case]   \n",
       "3                                                      [Hardwood Floors, No Fee]   \n",
       "4                                                                      [Pre-War]   \n",
       "\n",
       "  interest_level  latitude     ...       \\\n",
       "0         medium   40.7145     ...        \n",
       "1            low   40.7947     ...        \n",
       "2           high   40.7388     ...        \n",
       "3            low   40.7539     ...        \n",
       "4            low   40.8241     ...        \n",
       "\n",
       "                                                                                                photos  \\\n",
       "0  [https://photos.renthop.com/2/7211212_1ed4542ec81621d70d1061aa833e669c.jpg, https://photos.renth...   \n",
       "1  [https://photos.renthop.com/2/7150865_be3306c5d89c6bfa755c6e89c9ed64d5.jpg, https://photos.renth...   \n",
       "2  [https://photos.renthop.com/2/6887163_de85c427363a2e6d736a5df96d8d5541.jpg, https://photos.renth...   \n",
       "3  [https://photos.renthop.com/2/6888711_6e660cee4f508b476568a4b4c1160c20.jpg, https://photos.renth...   \n",
       "4  [https://photos.renthop.com/2/6934781_1fa4b41a929865b9a5443fdaf78d0147.jpg, https://photos.renth...   \n",
       "\n",
       "   price           street_address no_of_photos  no_of_features interest_num  \\\n",
       "0   3000  792 Metropolitan Avenue            5               0            1   \n",
       "1   5465      808 Columbus Avenue           11               5            0   \n",
       "2   2850          241 W 13 Street            8               4            2   \n",
       "3   3275     333 East 49th Street            3               2            0   \n",
       "4   3350    500 West 143rd Street            3               1            0   \n",
       "\n",
       "   n_words  created_year  created_month  created_day  \n",
       "0       95          2016              6           24  \n",
       "1        9          2016              6           12  \n",
       "2       94          2016              4           17  \n",
       "3       80          2016              4           18  \n",
       "4       68          2016              4           28  \n",
       "\n",
       "[5 rows x 23 columns]"
      ]
     },
     "execution_count": 48,
     "metadata": {},
     "output_type": "execute_result"
    }
   ],
   "source": [
    "df.description.astype(str)\n",
    "df[\"description\"] = df[\"description\"].replace('[^A-Za-z]+',\" \",regex = True)\n",
    "df.head()"
   ]
  },
  {
   "cell_type": "code",
   "execution_count": 49,
   "metadata": {
    "collapsed": true
   },
   "outputs": [],
   "source": [
    "#TF IDF"
   ]
  },
  {
   "cell_type": "code",
   "execution_count": 278,
   "metadata": {
    "collapsed": true
   },
   "outputs": [],
   "source": [
    "from nltk.stem.snowball import SnowballStemmer\n",
    "from sklearn.feature_extraction.text import TfidfVectorizer\n",
    "stemmer = SnowballStemmer(\"english\")\n"
   ]
  },
  {
   "cell_type": "code",
   "execution_count": 279,
   "metadata": {
    "collapsed": true
   },
   "outputs": [],
   "source": [
    "def tokens(x):\n",
    "    x = x.split()\n",
    "    stems = []\n",
    "    [stems.append(stemmer.stem(word)) for word in x]\n",
    "    return stems\n"
   ]
  },
  {
   "cell_type": "code",
   "execution_count": 283,
   "metadata": {},
   "outputs": [
    {
     "name": "stdout",
     "output_type": "stream",
     "text": [
      "CPU times: user 1min 10s, sys: 743 ms, total: 1min 10s\n",
      "Wall time: 1min 12s\n"
     ]
    },
    {
     "name": "stderr",
     "output_type": "stream",
     "text": [
      "/Users/akshaygade/anaconda3/lib/python3.6/site-packages/sklearn/feature_extraction/text.py:1059: FutureWarning: Conversion of the second argument of issubdtype from `float` to `np.floating` is deprecated. In future, it will be treated as `np.float64 == np.dtype(float).type`.\n",
      "  if hasattr(X, 'dtype') and np.issubdtype(X.dtype, np.float):\n"
     ]
    }
   ],
   "source": [
    "vect = TfidfVectorizer(tokenizer = tokens, stop_words = 'english', ngram_range=(1, 1), min_df = 0.01,lowercase = False)\n",
    "%time bow = vect.fit_transform(df[\"description\"])\n"
   ]
  },
  {
   "cell_type": "code",
   "execution_count": 330,
   "metadata": {},
   "outputs": [
    {
     "data": {
      "text/html": [
       "<div>\n",
       "<style>\n",
       "    .dataframe thead tr:only-child th {\n",
       "        text-align: right;\n",
       "    }\n",
       "\n",
       "    .dataframe thead th {\n",
       "        text-align: left;\n",
       "    }\n",
       "\n",
       "    .dataframe tbody tr th {\n",
       "        vertical-align: top;\n",
       "    }\n",
       "</style>\n",
       "<table border=\"1\" class=\"dataframe\">\n",
       "  <thead>\n",
       "    <tr style=\"text-align: right;\">\n",
       "      <th></th>\n",
       "      <th>!</th>\n",
       "      <th>\"</th>\n",
       "      <th>&amp;</th>\n",
       "      <th>&amp;amp;</th>\n",
       "      <th>*</th>\n",
       "      <th>**</th>\n",
       "      <th>+</th>\n",
       "      <th>,</th>\n",
       "      <th>-</th>\n",
       "      <th>--</th>\n",
       "      <th>...</th>\n",
       "      <th>wood</th>\n",
       "      <th>work</th>\n",
       "      <th>world</th>\n",
       "      <th>www.mironproperties.com&lt;p&gt;&lt;a</th>\n",
       "      <th>year</th>\n",
       "      <th>yoga</th>\n",
       "      <th>york</th>\n",
       "      <th>you'll</th>\n",
       "      <th>you'r</th>\n",
       "      <th>you.</th>\n",
       "    </tr>\n",
       "  </thead>\n",
       "  <tbody>\n",
       "    <tr>\n",
       "      <th>0</th>\n",
       "      <td>0.0</td>\n",
       "      <td>0.0</td>\n",
       "      <td>0.093985</td>\n",
       "      <td>0.0</td>\n",
       "      <td>0.0</td>\n",
       "      <td>0.0</td>\n",
       "      <td>0.0</td>\n",
       "      <td>0.0</td>\n",
       "      <td>0.000000</td>\n",
       "      <td>0.0</td>\n",
       "      <td>...</td>\n",
       "      <td>0.000000</td>\n",
       "      <td>0.000000</td>\n",
       "      <td>0.0</td>\n",
       "      <td>0.000000</td>\n",
       "      <td>0.0</td>\n",
       "      <td>0.0</td>\n",
       "      <td>0.000000</td>\n",
       "      <td>0.0</td>\n",
       "      <td>0.0</td>\n",
       "      <td>0.0</td>\n",
       "    </tr>\n",
       "    <tr>\n",
       "      <th>1</th>\n",
       "      <td>0.0</td>\n",
       "      <td>0.0</td>\n",
       "      <td>0.000000</td>\n",
       "      <td>0.0</td>\n",
       "      <td>0.0</td>\n",
       "      <td>0.0</td>\n",
       "      <td>0.0</td>\n",
       "      <td>0.0</td>\n",
       "      <td>0.000000</td>\n",
       "      <td>0.0</td>\n",
       "      <td>...</td>\n",
       "      <td>0.000000</td>\n",
       "      <td>0.000000</td>\n",
       "      <td>0.0</td>\n",
       "      <td>0.000000</td>\n",
       "      <td>0.0</td>\n",
       "      <td>0.0</td>\n",
       "      <td>0.000000</td>\n",
       "      <td>0.0</td>\n",
       "      <td>0.0</td>\n",
       "      <td>0.0</td>\n",
       "    </tr>\n",
       "    <tr>\n",
       "      <th>2</th>\n",
       "      <td>0.0</td>\n",
       "      <td>0.0</td>\n",
       "      <td>0.000000</td>\n",
       "      <td>0.0</td>\n",
       "      <td>0.0</td>\n",
       "      <td>0.0</td>\n",
       "      <td>0.0</td>\n",
       "      <td>0.0</td>\n",
       "      <td>0.000000</td>\n",
       "      <td>0.0</td>\n",
       "      <td>...</td>\n",
       "      <td>0.000000</td>\n",
       "      <td>0.000000</td>\n",
       "      <td>0.0</td>\n",
       "      <td>0.000000</td>\n",
       "      <td>0.0</td>\n",
       "      <td>0.0</td>\n",
       "      <td>0.114289</td>\n",
       "      <td>0.0</td>\n",
       "      <td>0.0</td>\n",
       "      <td>0.0</td>\n",
       "    </tr>\n",
       "    <tr>\n",
       "      <th>3</th>\n",
       "      <td>0.0</td>\n",
       "      <td>0.0</td>\n",
       "      <td>0.000000</td>\n",
       "      <td>0.0</td>\n",
       "      <td>0.0</td>\n",
       "      <td>0.0</td>\n",
       "      <td>0.0</td>\n",
       "      <td>0.0</td>\n",
       "      <td>0.665363</td>\n",
       "      <td>0.0</td>\n",
       "      <td>...</td>\n",
       "      <td>0.000000</td>\n",
       "      <td>0.000000</td>\n",
       "      <td>0.0</td>\n",
       "      <td>0.000000</td>\n",
       "      <td>0.0</td>\n",
       "      <td>0.0</td>\n",
       "      <td>0.000000</td>\n",
       "      <td>0.0</td>\n",
       "      <td>0.0</td>\n",
       "      <td>0.0</td>\n",
       "    </tr>\n",
       "    <tr>\n",
       "      <th>4</th>\n",
       "      <td>0.0</td>\n",
       "      <td>0.0</td>\n",
       "      <td>0.000000</td>\n",
       "      <td>0.0</td>\n",
       "      <td>0.0</td>\n",
       "      <td>0.0</td>\n",
       "      <td>0.0</td>\n",
       "      <td>0.0</td>\n",
       "      <td>0.000000</td>\n",
       "      <td>0.0</td>\n",
       "      <td>...</td>\n",
       "      <td>0.143779</td>\n",
       "      <td>0.000000</td>\n",
       "      <td>0.0</td>\n",
       "      <td>0.000000</td>\n",
       "      <td>0.0</td>\n",
       "      <td>0.0</td>\n",
       "      <td>0.000000</td>\n",
       "      <td>0.0</td>\n",
       "      <td>0.0</td>\n",
       "      <td>0.0</td>\n",
       "    </tr>\n",
       "    <tr>\n",
       "      <th>5</th>\n",
       "      <td>0.0</td>\n",
       "      <td>0.0</td>\n",
       "      <td>0.000000</td>\n",
       "      <td>0.0</td>\n",
       "      <td>0.0</td>\n",
       "      <td>0.0</td>\n",
       "      <td>0.0</td>\n",
       "      <td>0.0</td>\n",
       "      <td>0.000000</td>\n",
       "      <td>0.0</td>\n",
       "      <td>...</td>\n",
       "      <td>0.000000</td>\n",
       "      <td>0.000000</td>\n",
       "      <td>0.0</td>\n",
       "      <td>0.000000</td>\n",
       "      <td>0.0</td>\n",
       "      <td>0.0</td>\n",
       "      <td>0.000000</td>\n",
       "      <td>0.0</td>\n",
       "      <td>0.0</td>\n",
       "      <td>0.0</td>\n",
       "    </tr>\n",
       "    <tr>\n",
       "      <th>6</th>\n",
       "      <td>0.0</td>\n",
       "      <td>0.0</td>\n",
       "      <td>0.000000</td>\n",
       "      <td>0.0</td>\n",
       "      <td>0.0</td>\n",
       "      <td>0.0</td>\n",
       "      <td>0.0</td>\n",
       "      <td>0.0</td>\n",
       "      <td>0.151393</td>\n",
       "      <td>0.0</td>\n",
       "      <td>...</td>\n",
       "      <td>0.000000</td>\n",
       "      <td>0.224629</td>\n",
       "      <td>0.0</td>\n",
       "      <td>0.000000</td>\n",
       "      <td>0.0</td>\n",
       "      <td>0.0</td>\n",
       "      <td>0.000000</td>\n",
       "      <td>0.0</td>\n",
       "      <td>0.0</td>\n",
       "      <td>0.0</td>\n",
       "    </tr>\n",
       "    <tr>\n",
       "      <th>7</th>\n",
       "      <td>0.0</td>\n",
       "      <td>0.0</td>\n",
       "      <td>0.000000</td>\n",
       "      <td>0.0</td>\n",
       "      <td>0.0</td>\n",
       "      <td>0.0</td>\n",
       "      <td>0.0</td>\n",
       "      <td>0.0</td>\n",
       "      <td>0.000000</td>\n",
       "      <td>0.0</td>\n",
       "      <td>...</td>\n",
       "      <td>0.000000</td>\n",
       "      <td>0.000000</td>\n",
       "      <td>0.0</td>\n",
       "      <td>0.000000</td>\n",
       "      <td>0.0</td>\n",
       "      <td>0.0</td>\n",
       "      <td>0.000000</td>\n",
       "      <td>0.0</td>\n",
       "      <td>0.0</td>\n",
       "      <td>0.0</td>\n",
       "    </tr>\n",
       "    <tr>\n",
       "      <th>8</th>\n",
       "      <td>0.0</td>\n",
       "      <td>0.0</td>\n",
       "      <td>0.000000</td>\n",
       "      <td>0.0</td>\n",
       "      <td>0.0</td>\n",
       "      <td>0.0</td>\n",
       "      <td>0.0</td>\n",
       "      <td>0.0</td>\n",
       "      <td>0.000000</td>\n",
       "      <td>0.0</td>\n",
       "      <td>...</td>\n",
       "      <td>0.000000</td>\n",
       "      <td>0.000000</td>\n",
       "      <td>0.0</td>\n",
       "      <td>0.000000</td>\n",
       "      <td>0.0</td>\n",
       "      <td>0.0</td>\n",
       "      <td>0.000000</td>\n",
       "      <td>0.0</td>\n",
       "      <td>0.0</td>\n",
       "      <td>0.0</td>\n",
       "    </tr>\n",
       "    <tr>\n",
       "      <th>9</th>\n",
       "      <td>0.0</td>\n",
       "      <td>0.0</td>\n",
       "      <td>0.000000</td>\n",
       "      <td>0.0</td>\n",
       "      <td>0.0</td>\n",
       "      <td>0.0</td>\n",
       "      <td>0.0</td>\n",
       "      <td>0.0</td>\n",
       "      <td>0.000000</td>\n",
       "      <td>0.0</td>\n",
       "      <td>...</td>\n",
       "      <td>0.000000</td>\n",
       "      <td>0.000000</td>\n",
       "      <td>0.0</td>\n",
       "      <td>0.137706</td>\n",
       "      <td>0.0</td>\n",
       "      <td>0.0</td>\n",
       "      <td>0.000000</td>\n",
       "      <td>0.0</td>\n",
       "      <td>0.0</td>\n",
       "      <td>0.0</td>\n",
       "    </tr>\n",
       "  </tbody>\n",
       "</table>\n",
       "<p>10 rows × 821 columns</p>\n",
       "</div>"
      ],
      "text/plain": [
       "     !    \"         &  &amp;    *   **    +    ,         -   --  ...   \\\n",
       "0  0.0  0.0  0.093985    0.0  0.0  0.0  0.0  0.0  0.000000  0.0  ...    \n",
       "1  0.0  0.0  0.000000    0.0  0.0  0.0  0.0  0.0  0.000000  0.0  ...    \n",
       "2  0.0  0.0  0.000000    0.0  0.0  0.0  0.0  0.0  0.000000  0.0  ...    \n",
       "3  0.0  0.0  0.000000    0.0  0.0  0.0  0.0  0.0  0.665363  0.0  ...    \n",
       "4  0.0  0.0  0.000000    0.0  0.0  0.0  0.0  0.0  0.000000  0.0  ...    \n",
       "5  0.0  0.0  0.000000    0.0  0.0  0.0  0.0  0.0  0.000000  0.0  ...    \n",
       "6  0.0  0.0  0.000000    0.0  0.0  0.0  0.0  0.0  0.151393  0.0  ...    \n",
       "7  0.0  0.0  0.000000    0.0  0.0  0.0  0.0  0.0  0.000000  0.0  ...    \n",
       "8  0.0  0.0  0.000000    0.0  0.0  0.0  0.0  0.0  0.000000  0.0  ...    \n",
       "9  0.0  0.0  0.000000    0.0  0.0  0.0  0.0  0.0  0.000000  0.0  ...    \n",
       "\n",
       "       wood      work  world  www.mironproperties.com<p><a  year  yoga  \\\n",
       "0  0.000000  0.000000    0.0                      0.000000   0.0   0.0   \n",
       "1  0.000000  0.000000    0.0                      0.000000   0.0   0.0   \n",
       "2  0.000000  0.000000    0.0                      0.000000   0.0   0.0   \n",
       "3  0.000000  0.000000    0.0                      0.000000   0.0   0.0   \n",
       "4  0.143779  0.000000    0.0                      0.000000   0.0   0.0   \n",
       "5  0.000000  0.000000    0.0                      0.000000   0.0   0.0   \n",
       "6  0.000000  0.224629    0.0                      0.000000   0.0   0.0   \n",
       "7  0.000000  0.000000    0.0                      0.000000   0.0   0.0   \n",
       "8  0.000000  0.000000    0.0                      0.000000   0.0   0.0   \n",
       "9  0.000000  0.000000    0.0                      0.137706   0.0   0.0   \n",
       "\n",
       "       york  you'll  you'r  you.  \n",
       "0  0.000000     0.0    0.0   0.0  \n",
       "1  0.000000     0.0    0.0   0.0  \n",
       "2  0.114289     0.0    0.0   0.0  \n",
       "3  0.000000     0.0    0.0   0.0  \n",
       "4  0.000000     0.0    0.0   0.0  \n",
       "5  0.000000     0.0    0.0   0.0  \n",
       "6  0.000000     0.0    0.0   0.0  \n",
       "7  0.000000     0.0    0.0   0.0  \n",
       "8  0.000000     0.0    0.0   0.0  \n",
       "9  0.000000     0.0    0.0   0.0  \n",
       "\n",
       "[10 rows x 821 columns]"
      ]
     },
     "execution_count": 330,
     "metadata": {},
     "output_type": "execute_result"
    }
   ],
   "source": [
    "matdf = pd.DataFrame(bow.toarray())\n",
    "matdf.columns = vect.get_feature_names()\n",
    "matdf.head(10)"
   ]
  },
  {
   "cell_type": "markdown",
   "metadata": {},
   "source": [
    "# MACHINE LEARNING\n"
   ]
  },
  {
   "cell_type": "code",
   "execution_count": 301,
   "metadata": {
    "collapsed": true
   },
   "outputs": [],
   "source": [
    "from sklearn.model_selection import train_test_split\n",
    "from sklearn.tree import DecisionTreeClassifier\n",
    "from sklearn.ensemble import RandomForestClassifier\n",
    "from sklearn.metrics import accuracy_score\n",
    "from sklearn.metrics import log_loss"
   ]
  },
  {
   "cell_type": "code",
   "execution_count": 313,
   "metadata": {},
   "outputs": [],
   "source": [
    "X = df[['bathrooms','bedrooms','price','no_of_photos','no_of_features','n_words','latitude','longitude']]\n",
    "y = df.interest_num\n"
   ]
  },
  {
   "cell_type": "code",
   "execution_count": 314,
   "metadata": {
    "collapsed": true
   },
   "outputs": [],
   "source": [
    "#Train Test split\n",
    "X_train, X_val, y_train, y_val = train_test_split(X, y, test_size=0.4,random_state=42)\n"
   ]
  },
  {
   "cell_type": "code",
   "execution_count": 315,
   "metadata": {
    "collapsed": true
   },
   "outputs": [],
   "source": [
    "#Normalizing the data\n",
    "from sklearn.preprocessing import StandardScaler\n",
    "sc = StandardScaler()\n",
    "X_train = sc.fit_transform(X_train)\n",
    "X_val = sc.transform(X_val)"
   ]
  },
  {
   "cell_type": "markdown",
   "metadata": {},
   "source": [
    "# RIDGE CLASSIFIER"
   ]
  },
  {
   "cell_type": "code",
   "execution_count": 316,
   "metadata": {
    "collapsed": true
   },
   "outputs": [],
   "source": [
    "from sklearn.linear_model import RidgeClassifier\n"
   ]
  },
  {
   "cell_type": "code",
   "execution_count": 317,
   "metadata": {
    "collapsed": true
   },
   "outputs": [],
   "source": [
    "rdg_clf = RidgeClassifier(alpha=1.0, fit_intercept=True, normalize=False,solver='auto',max_iter=100)\n"
   ]
  },
  {
   "cell_type": "code",
   "execution_count": 318,
   "metadata": {},
   "outputs": [
    {
     "data": {
      "text/plain": [
       "RidgeClassifier(alpha=1.0, class_weight=None, copy_X=True, fit_intercept=True,\n",
       "        max_iter=100, normalize=False, random_state=None, solver='auto',\n",
       "        tol=0.001)"
      ]
     },
     "execution_count": 318,
     "metadata": {},
     "output_type": "execute_result"
    }
   ],
   "source": [
    "rdg_clf.fit(X_train,y_train)\n"
   ]
  },
  {
   "cell_type": "code",
   "execution_count": 319,
   "metadata": {
    "collapsed": true
   },
   "outputs": [],
   "source": [
    "pred = rdg_clf.predict(X_val)\n"
   ]
  },
  {
   "cell_type": "code",
   "execution_count": 320,
   "metadata": {},
   "outputs": [
    {
     "data": {
      "text/plain": [
       "0.6907451496884657"
      ]
     },
     "execution_count": 320,
     "metadata": {},
     "output_type": "execute_result"
    }
   ],
   "source": [
    "accuracy_score(y_val,pred)\n"
   ]
  },
  {
   "cell_type": "markdown",
   "metadata": {},
   "source": [
    "# Multi Layer Perceptron"
   ]
  },
  {
   "cell_type": "code",
   "execution_count": 121,
   "metadata": {},
   "outputs": [
    {
     "data": {
      "text/plain": [
       "MLPClassifier(activation='relu', alpha=0.0001, batch_size='auto', beta_1=0.9,\n",
       "       beta_2=0.999, early_stopping=False, epsilon=1e-08,\n",
       "       hidden_layer_sizes=(150, 150, 150), learning_rate='constant',\n",
       "       learning_rate_init=0.001, max_iter=200, momentum=0.9,\n",
       "       nesterovs_momentum=True, power_t=0.5, random_state=None,\n",
       "       shuffle=True, solver='adam', tol=0.0001, validation_fraction=0.1,\n",
       "       verbose=False, warm_start=False)"
      ]
     },
     "execution_count": 121,
     "metadata": {},
     "output_type": "execute_result"
    }
   ],
   "source": [
    "from sklearn.neural_network import MLPClassifier\n",
    "mlp = MLPClassifier(hidden_layer_sizes=(150,150,150))\n",
    "mlp.fit(X_train,y_train)\n"
   ]
  },
  {
   "cell_type": "code",
   "execution_count": 53,
   "metadata": {},
   "outputs": [],
   "source": [
    "pred = mlp.predict(X_val)"
   ]
  },
  {
   "cell_type": "code",
   "execution_count": 50,
   "metadata": {},
   "outputs": [],
   "source": [
    "fpr, tpr, threshold = metrics.roc_curve(y_val, pred,pos_label=1)\n",
    "roc_auc = metrics.auc(fpr, tpr)\n"
   ]
  },
  {
   "cell_type": "code",
   "execution_count": 55,
   "metadata": {},
   "outputs": [
    {
     "data": {
      "text/plain": [
       "0.7030933405376198"
      ]
     },
     "execution_count": 55,
     "metadata": {},
     "output_type": "execute_result"
    }
   ],
   "source": [
    "accuracy_score(y_val,pred)\n"
   ]
  },
  {
   "cell_type": "code",
   "execution_count": 52,
   "metadata": {},
   "outputs": [
    {
     "data": {
      "image/png": "[encoded data removed]",
      "text/plain": [
       "<matplotlib.figure.Figure at 0x1429a08d0>"
      ]
     },
     "metadata": {},
     "output_type": "display_data"
    }
   ],
   "source": [
    "plt.title('ROC Curve MLP')\n",
    "plt.plot(fpr, tpr, 'b', label = 'AUC = %0.2f' % roc_auc)\n",
    "plt.legend(loc = 'lower right')\n",
    "plt.plot([0, 1], [0, 1],'r--')\n",
    "plt.xlim([0, 1])\n",
    "plt.ylim([0, 1])\n",
    "plt.ylabel('True Positive Rate')\n",
    "plt.xlabel('False Positive Rate')\n",
    "\n",
    "plt.rcParams['figure.figsize'] = 12,12\n",
    "plt.show()"
   ]
  },
  {
   "cell_type": "markdown",
   "metadata": {},
   "source": [
    "# Random Forrest\n"
   ]
  },
  {
   "cell_type": "code",
   "execution_count": 323,
   "metadata": {},
   "outputs": [
    {
     "name": "stdout",
     "output_type": "stream",
     "text": [
      "CPU times: user 2.24 s, sys: 76.9 ms, total: 2.32 s\n",
      "Wall time: 893 ms\n"
     ]
    },
    {
     "data": {
      "text/plain": [
       "0.7221518666734208"
      ]
     },
     "execution_count": 323,
     "metadata": {},
     "output_type": "execute_result"
    }
   ],
   "source": [
    "clf = RandomForestClassifier(n_estimators=50,n_jobs=-1,min_samples_leaf=5)\n",
    "%time clf.fit(X_train, y_train)\n",
    "y_val_pred = clf.predict(X_val)\n",
    "accuracy_score(y_val,y_val_pred)\n"
   ]
  },
  {
   "cell_type": "code",
   "execution_count": 324,
   "metadata": {},
   "outputs": [
    {
     "data": {
      "image/png": "[encoded data removed]",
      "text/plain": [
       "<matplotlib.figure.Figure at 0x142707048>"
      ]
     },
     "metadata": {},
     "output_type": "display_data"
    }
   ],
   "source": [
    "fpr, tpr, threshold = metrics.roc_curve(y_val, y_val_pred,pos_label=1)\n",
    "roc_auc = metrics.auc(fpr, tpr)\n",
    "\n",
    "plt.title('ROC Curve Random Forest')\n",
    "plt.plot(fpr, tpr, 'b', label = 'AUC = %0.2f' % roc_auc)\n",
    "plt.legend(loc = 'lower right')\n",
    "plt.plot([0, 1], [0, 1],'r--')\n",
    "plt.xlim([0, 1])\n",
    "plt.ylim([0, 1])\n",
    "plt.ylabel('True Positive Rate')\n",
    "plt.xlabel('False Positive Rate')\n",
    "\n",
    "plt.rcParams['figure.figsize'] = 12,12\n",
    "plt.show()"
   ]
  },
  {
   "cell_type": "code",
   "execution_count": 141,
   "metadata": {},
   "outputs": [
    {
     "data": {
      "text/html": [
       "<div>\n",
       "<style>\n",
       "    .dataframe thead tr:only-child th {\n",
       "        text-align: right;\n",
       "    }\n",
       "\n",
       "    .dataframe thead th {\n",
       "        text-align: left;\n",
       "    }\n",
       "\n",
       "    .dataframe tbody tr th {\n",
       "        vertical-align: top;\n",
       "    }\n",
       "</style>\n",
       "<table border=\"1\" class=\"dataframe\">\n",
       "  <thead>\n",
       "    <tr style=\"text-align: right;\">\n",
       "      <th>Predicted</th>\n",
       "      <th>0.0</th>\n",
       "      <th>1.0</th>\n",
       "      <th>2.0</th>\n",
       "      <th>All</th>\n",
       "    </tr>\n",
       "    <tr>\n",
       "      <th>Actual</th>\n",
       "      <th></th>\n",
       "      <th></th>\n",
       "      <th></th>\n",
       "      <th></th>\n",
       "    </tr>\n",
       "  </thead>\n",
       "  <tbody>\n",
       "    <tr>\n",
       "      <th>0.0</th>\n",
       "      <td>2682</td>\n",
       "      <td>364</td>\n",
       "      <td>73</td>\n",
       "      <td>3119</td>\n",
       "    </tr>\n",
       "    <tr>\n",
       "      <th>1.0</th>\n",
       "      <td>865</td>\n",
       "      <td>131</td>\n",
       "      <td>26</td>\n",
       "      <td>1022</td>\n",
       "    </tr>\n",
       "    <tr>\n",
       "      <th>2.0</th>\n",
       "      <td>293</td>\n",
       "      <td>38</td>\n",
       "      <td>6</td>\n",
       "      <td>337</td>\n",
       "    </tr>\n",
       "    <tr>\n",
       "      <th>All</th>\n",
       "      <td>3840</td>\n",
       "      <td>533</td>\n",
       "      <td>105</td>\n",
       "      <td>4478</td>\n",
       "    </tr>\n",
       "  </tbody>\n",
       "</table>\n",
       "</div>"
      ],
      "text/plain": [
       "Predicted   0.0  1.0  2.0   All\n",
       "Actual                         \n",
       "0.0        2682  364   73  3119\n",
       "1.0         865  131   26  1022\n",
       "2.0         293   38    6   337\n",
       "All        3840  533  105  4478"
      ]
     },
     "execution_count": 141,
     "metadata": {},
     "output_type": "execute_result"
    }
   ],
   "source": [
    "pd.crosstab(pd.Series(y_val,name=\"Actual\"),pd.Series(y_val_pred,name=\"Predicted\"),margins=True)"
   ]
  },
  {
   "cell_type": "markdown",
   "metadata": {},
   "source": [
    "# SVM\n"
   ]
  },
  {
   "cell_type": "code",
   "execution_count": 208,
   "metadata": {
    "collapsed": true
   },
   "outputs": [],
   "source": [
    "from sklearn.svm import SVC\n",
    "classifier = SVC(kernel = 'rbf', random_state = 0)\n",
    "classifier.fit(X_train, y_train)\n",
    "\n",
    "# Predicting the Test set resu\n",
    "y_pred = classifier.predict(X_val)\n"
   ]
  },
  {
   "cell_type": "code",
   "execution_count": 209,
   "metadata": {},
   "outputs": [
    {
     "name": "stdout",
     "output_type": "stream",
     "text": [
      "0.6883801033329956\n"
     ]
    }
   ],
   "source": [
    "print(accuracy_score(y_val, y_pred))"
   ]
  },
  {
   "cell_type": "markdown",
   "metadata": {
    "collapsed": true
   },
   "source": [
    "# ARTIFICIAL NEURAL NETWORK"
   ]
  },
  {
   "cell_type": "code",
   "execution_count": 228,
   "metadata": {},
   "outputs": [
    {
     "name": "stderr",
     "output_type": "stream",
     "text": [
      "/Users/akshaygade/anaconda3/lib/python3.6/site-packages/h5py/__init__.py:34: FutureWarning: Conversion of the second argument of issubdtype from `float` to `np.floating` is deprecated. In future, it will be treated as `np.float64 == np.dtype(float).type`.\n",
      "  from ._conv import register_converters as _register_converters\n",
      "Using TensorFlow backend.\n"
     ]
    }
   ],
   "source": [
    "import keras\n",
    "from keras.models import Sequential\n",
    "from keras.layers import Dense\n",
    "from sklearn.model_selection import GridSearchCV\n",
    "from keras.wrappers.scikit_learn import KerasClassifier\n"
   ]
  },
  {
   "cell_type": "code",
   "execution_count": 229,
   "metadata": {
    "collapsed": true
   },
   "outputs": [],
   "source": [
    "#Initialize neural network\n",
    "classifier = Sequential()"
   ]
  },
  {
   "cell_type": "code",
   "execution_count": 234,
   "metadata": {},
   "outputs": [
    {
     "name": "stdout",
     "output_type": "stream",
     "text": [
      "Epoch 1/5\n",
      "31584/31584 [==============================] - 100s 3ms/step - loss: 0.5768 - acc: 0.6629\n",
      "Epoch 2/5\n",
      "31584/31584 [==============================] - 105s 3ms/step - loss: 0.5327 - acc: 0.6477\n",
      "Epoch 3/5\n",
      "31584/31584 [==============================] - 105s 3ms/step - loss: 0.5193 - acc: 0.6563\n",
      "Epoch 4/5\n",
      "31584/31584 [==============================] - 115s 4ms/step - loss: 0.5030 - acc: 0.6516\n",
      "Epoch 5/5\n",
      "31584/31584 [==============================] - 108s 3ms/step - loss: 0.4949 - acc: 0.6519\n",
      "Epoch 1/5\n",
      "31585/31585 [==============================] - 110s 3ms/step - loss: 0.5840 - acc: 0.6606\n",
      "Epoch 2/5\n",
      "31585/31585 [==============================] - 99s 3ms/step - loss: 0.5391 - acc: 0.6437\n",
      "Epoch 3/5\n",
      "31585/31585 [==============================] - 107s 3ms/step - loss: 0.5310 - acc: 0.6438\n",
      "Epoch 4/5\n",
      "31585/31585 [==============================] - 104s 3ms/step - loss: 0.5295 - acc: 0.6429\n",
      "Epoch 5/5\n",
      "31585/31585 [==============================] - 107s 3ms/step - loss: 0.5262 - acc: 0.6470\n",
      "Epoch 1/5\n",
      "31585/31585 [==============================] - 100s 3ms/step - loss: 0.5852 - acc: 0.6697\n",
      "Epoch 2/5\n",
      "31585/31585 [==============================] - 96s 3ms/step - loss: 0.5359 - acc: 0.6468\n",
      "Epoch 3/5\n",
      "31585/31585 [==============================] - 96s 3ms/step - loss: 0.5311 - acc: 0.6473\n",
      "Epoch 4/5\n",
      "31585/31585 [==============================] - 96s 3ms/step - loss: 0.5274 - acc: 0.6470\n",
      "Epoch 5/5\n",
      "31585/31585 [==============================] - 96s 3ms/step - loss: 0.5244 - acc: 0.6496\n",
      "Epoch 1/5\n",
      "31585/31585 [==============================] - 97s 3ms/step - loss: 0.5762 - acc: 0.6653\n",
      "Epoch 2/5\n",
      "31585/31585 [==============================] - 121s 4ms/step - loss: 0.5327 - acc: 0.6438\n",
      "Epoch 3/5\n",
      "31585/31585 [==============================] - 116s 4ms/step - loss: 0.5174 - acc: 0.6452\n",
      "Epoch 4/5\n",
      "31585/31585 [==============================] - 117s 4ms/step - loss: 0.5100 - acc: 0.6466\n",
      "Epoch 5/5\n",
      "31585/31585 [==============================] - 104s 3ms/step - loss: 0.5049 - acc: 0.6423\n",
      "Epoch 1/5\n",
      "31585/31585 [==============================] - 105s 3ms/step - loss: 0.5781 - acc: 0.6653\n",
      "Epoch 2/5\n",
      "31585/31585 [==============================] - 101s 3ms/step - loss: 0.5237 - acc: 0.6464\n",
      "Epoch 3/5\n",
      "31585/31585 [==============================] - 99s 3ms/step - loss: 0.5107 - acc: 0.6493\n",
      "Epoch 4/5\n",
      "31585/31585 [==============================] - 94s 3ms/step - loss: 0.5059 - acc: 0.6501\n",
      "Epoch 5/5\n",
      "31585/31585 [==============================] - 98s 3ms/step - loss: 0.5020 - acc: 0.6473\n",
      "Epoch 1/5\n",
      "31584/31584 [==============================] - 84s 3ms/step - loss: 0.6341 - acc: 0.6683\n",
      "Epoch 2/5\n",
      "31584/31584 [==============================] - 78s 2ms/step - loss: 0.6154 - acc: 0.6522\n",
      "Epoch 3/5\n",
      "31584/31584 [==============================] - 78s 2ms/step - loss: 0.6119 - acc: 0.6475\n",
      "Epoch 4/5\n",
      "31584/31584 [==============================] - 79s 2ms/step - loss: 0.6093 - acc: 0.6448\n",
      "Epoch 5/5\n",
      "31584/31584 [==============================] - 85s 3ms/step - loss: 0.6077 - acc: 0.6381\n",
      "Epoch 1/5\n",
      "31585/31585 [==============================] - 100s 3ms/step - loss: 0.6336 - acc: 0.6672\n",
      "Epoch 2/5\n",
      "31585/31585 [==============================] - 96s 3ms/step - loss: 0.6120 - acc: 0.6553\n",
      "Epoch 3/5\n",
      "31585/31585 [==============================] - 100s 3ms/step - loss: 0.6073 - acc: 0.6493\n",
      "Epoch 4/5\n",
      "31585/31585 [==============================] - 95s 3ms/step - loss: 0.6082 - acc: 0.6409\n",
      "Epoch 5/5\n",
      "31585/31585 [==============================] - 94s 3ms/step - loss: 0.6033 - acc: 0.6356\n",
      "Epoch 1/5\n",
      "31585/31585 [==============================] - 97s 3ms/step - loss: 0.6360 - acc: 0.6722\n",
      "Epoch 2/5\n",
      "31585/31585 [==============================] - 96s 3ms/step - loss: 0.6188 - acc: 0.6555\n",
      "Epoch 3/5\n",
      "31585/31585 [==============================] - 95s 3ms/step - loss: 0.6116 - acc: 0.6497\n",
      "Epoch 4/5\n",
      "31585/31585 [==============================] - 97s 3ms/step - loss: 0.6070 - acc: 0.6500\n",
      "Epoch 5/5\n",
      "31585/31585 [==============================] - 93s 3ms/step - loss: 0.5896 - acc: 0.6491\n",
      "Epoch 1/5\n",
      "31585/31585 [==============================] - 95s 3ms/step - loss: 0.6317 - acc: 0.6620\n",
      "Epoch 2/5\n",
      "31585/31585 [==============================] - 95s 3ms/step - loss: 0.5964 - acc: 0.6575\n",
      "Epoch 3/5\n",
      "31585/31585 [==============================] - 95s 3ms/step - loss: 0.5805 - acc: 0.6551\n",
      "Epoch 4/5\n",
      "31585/31585 [==============================] - 98s 3ms/step - loss: 0.5759 - acc: 0.6526\n",
      "Epoch 5/5\n",
      "31585/31585 [==============================] - 96s 3ms/step - loss: 0.5763 - acc: 0.6530\n",
      "Epoch 1/5\n",
      "31585/31585 [==============================] - 99s 3ms/step - loss: 0.6312 - acc: 0.6614\n",
      "Epoch 2/5\n",
      "31585/31585 [==============================] - 93s 3ms/step - loss: 0.6012 - acc: 0.6549\n",
      "Epoch 3/5\n",
      "31585/31585 [==============================] - 98s 3ms/step - loss: 0.5919 - acc: 0.6547\n",
      "Epoch 4/5\n",
      "31585/31585 [==============================] - 92s 3ms/step - loss: 0.5892 - acc: 0.6528\n",
      "Epoch 5/5\n",
      "31585/31585 [==============================] - 91s 3ms/step - loss: 0.5867 - acc: 0.6478\n",
      "Epoch 1/5\n",
      "39481/39481 [==============================] - 140s 4ms/step - loss: 0.5727 - acc: 0.6601\n",
      "Epoch 2/5\n",
      "39481/39481 [==============================] - 141s 4ms/step - loss: 0.5318 - acc: 0.6470\n",
      "Epoch 3/5\n",
      "39481/39481 [==============================] - 152s 4ms/step - loss: 0.5264 - acc: 0.6482\n",
      "Epoch 4/5\n",
      "39481/39481 [==============================] - 144s 4ms/step - loss: 0.5243 - acc: 0.6477\n",
      "Epoch 5/5\n",
      "39481/39481 [==============================] - 143s 4ms/step - loss: 0.5223 - acc: 0.6439\n"
     ]
    }
   ],
   "source": [
    "def build_classifier(optimizer):\n",
    "    classifier = Sequential()\n",
    "    classifier.add(Dense(units = 6, kernel_initializer = 'uniform', activation = 'relu', input_dim = 8))\n",
    "    classifier.add(Dense(units = 6, kernel_initializer = 'uniform', activation = 'relu'))\n",
    "    classifier.add(Dense(units = 1, kernel_initializer = 'uniform', activation = 'sigmoid'))\n",
    "    classifier.compile(optimizer = optimizer, loss = 'binary_crossentropy', metrics = ['accuracy'])\n",
    "    return classifier\n",
    "classifier = KerasClassifier(build_fn = build_classifier)\n",
    "parameters = {'batch_size': [1],\n",
    "              'epochs': [5],\n",
    "              'optimizer': ['adam', 'rmsprop']}\n",
    "grid_search = GridSearchCV(estimator = classifier,\n",
    "                           param_grid = parameters,\n",
    "                           scoring = 'accuracy',\n",
    "                           cv = 5)\n",
    "grid_search = grid_search.fit(X_train, y_train)\n"
   ]
  },
  {
   "cell_type": "code",
   "execution_count": 235,
   "metadata": {
    "collapsed": true
   },
   "outputs": [],
   "source": [
    "best_parameters = grid_search.best_params_\n",
    "best_accuracy = grid_search.best_score_\n"
   ]
  },
  {
   "cell_type": "code",
   "execution_count": 237,
   "metadata": {},
   "outputs": [
    {
     "data": {
      "text/plain": [
       "{'batch_size': 1, 'epochs': 5, 'optimizer': 'adam'}"
      ]
     },
     "execution_count": 237,
     "metadata": {},
     "output_type": "execute_result"
    }
   ],
   "source": [
    "best_parameters"
   ]
  },
  {
   "cell_type": "code",
   "execution_count": 236,
   "metadata": {},
   "outputs": [
    {
     "data": {
      "text/plain": [
       "0.654213419112991"
      ]
     },
     "execution_count": 236,
     "metadata": {},
     "output_type": "execute_result"
    }
   ],
   "source": [
    "best_accuracy"
   ]
  },
  {
   "cell_type": "code",
   "execution_count": null,
   "metadata": {
    "collapsed": true
   },
   "outputs": [],
   "source": [
    "from sklearn.neighbors import KNeighborsClassifier\n",
    "from sklearn.grid_search import GridSearchCV\n",
    "from sklearn.linear_model import LogisticRegression\n",
    "from sklearn.tree import DecisionTreeClassifier"
   ]
  },
  {
   "cell_type": "markdown",
   "metadata": {},
   "source": [
    "# KNN"
   ]
  },
  {
   "cell_type": "code",
   "execution_count": 212,
   "metadata": {},
   "outputs": [
    {
     "data": {
      "text/plain": [
       "GridSearchCV(cv=5, error_score='raise',\n",
       "       estimator=KNeighborsClassifier(algorithm='auto', leaf_size=30, metric='minkowski',\n",
       "           metric_params=None, n_jobs=1, n_neighbors=5, p=2,\n",
       "           weights='uniform'),\n",
       "       fit_params={}, iid=True, n_jobs=1,\n",
       "       param_grid=[{'n_neighbors': [1, 3, 5, 7, 9, 11, 13, 15, 17], 'weights': ['uniform', 'distance']}],\n",
       "       pre_dispatch='2*n_jobs', refit=True, scoring=None, verbose=0)"
      ]
     },
     "execution_count": 212,
     "metadata": {},
     "output_type": "execute_result"
    }
   ],
   "source": [
    "KNN_grid = [{'n_neighbors': [1, 3, 5, 7, 9, 11, 13, 15, 17], 'weights': ['uniform', 'distance']}]\n",
    "\n",
    "    # build a grid search to find the best parameters\n",
    "gridsearchKNN = GridSearchCV(KNeighborsClassifier(), KNN_grid, cv=5)\n",
    "\n",
    "    # run the grid search\n",
    "gridsearchKNN.fit(X_train, y_train)"
   ]
  },
  {
   "cell_type": "code",
   "execution_count": 213,
   "metadata": {
    "collapsed": true
   },
   "outputs": [],
   "source": [
    "pred=gridsearchKNN.predict(X_val)"
   ]
  },
  {
   "cell_type": "code",
   "execution_count": 215,
   "metadata": {},
   "outputs": [
    {
     "name": "stdout",
     "output_type": "stream",
     "text": [
      "0.6805794752304731\n"
     ]
    }
   ],
   "source": [
    "print(accuracy_score(y_val, pred))"
   ]
  },
  {
   "cell_type": "code",
   "execution_count": 216,
   "metadata": {},
   "outputs": [
    {
     "data": {
      "text/plain": [
       "array([[6241,  499,   55],\n",
       "       [1806,  409,   96],\n",
       "       [ 556,  141,   68]])"
      ]
     },
     "execution_count": 216,
     "metadata": {},
     "output_type": "execute_result"
    }
   ],
   "source": [
    "from sklearn.metrics import confusion_matrix\n",
    "confusion_matrix(y_val, pred)"
   ]
  },
  {
   "cell_type": "code",
   "execution_count": 218,
   "metadata": {},
   "outputs": [],
   "source": [
    "from sklearn import metrics\n",
    "fpr, tpr, threshold = metrics.roc_curve(y_val, pred,pos_label=1)\n",
    "roc_auc = metrics.auc(fpr, tpr)\n"
   ]
  },
  {
   "cell_type": "code",
   "execution_count": 219,
   "metadata": {},
   "outputs": [
    {
     "data": {
      "image/png": "[encoded data removed]",
      "text/plain": [
       "<matplotlib.figure.Figure at 0x142955550>"
      ]
     },
     "metadata": {},
     "output_type": "display_data"
    }
   ],
   "source": [
    "import matplotlib.pyplot as plt\n",
    "plt.title('ROC Curve KNN')\n",
    "plt.plot(fpr, tpr, 'b', label = 'AUC = %0.2f' % roc_auc)\n",
    "plt.legend(loc = 'lower right')\n",
    "plt.plot([0, 1], [0, 1],'r--')\n",
    "plt.xlim([0, 1])\n",
    "plt.ylim([0, 1])\n",
    "plt.ylabel('True Positive Rate')\n",
    "plt.xlabel('False Positive Rate')\n",
    "\n",
    "plt.rcParams['figure.figsize'] = 12,12\n",
    "plt.show()"
   ]
  },
  {
   "cell_type": "markdown",
   "metadata": {},
   "source": [
    "# Decision Tree"
   ]
  },
  {
   "cell_type": "code",
   "execution_count": 220,
   "metadata": {},
   "outputs": [
    {
     "data": {
      "text/plain": [
       "GridSearchCV(cv=5, error_score='raise',\n",
       "       estimator=DecisionTreeClassifier(class_weight=None, criterion='gini', max_depth=None,\n",
       "            max_features=None, max_leaf_nodes=None,\n",
       "            min_impurity_split=1e-07, min_samples_leaf=1,\n",
       "            min_samples_split=2, min_weight_fraction_leaf=0.0,\n",
       "            presort=False, random_state=None, splitter='best'),\n",
       "       fit_params={}, iid=True, n_jobs=1,\n",
       "       param_grid=[{'max_depth': [3, 4, 5, 6, 7, 8, 9, 10, 11, 12], 'criterion': ['gini', 'entropy']}],\n",
       "       pre_dispatch='2*n_jobs', refit=True, scoring=None, verbose=0)"
      ]
     },
     "execution_count": 220,
     "metadata": {},
     "output_type": "execute_result"
    }
   ],
   "source": [
    "DT_grid = [{'max_depth': [3, 4, 5, 6, 7, 8, 9, 10, 11, 12], 'criterion': ['gini', 'entropy']}]\n",
    "\n",
    "# build a grid search to find the best parameters\n",
    "gridsearchDT = GridSearchCV(DecisionTreeClassifier(), DT_grid, cv=5)\n",
    "\n",
    "# run the grid search\n",
    "gridsearchDT.fit(X_train, y_train)"
   ]
  },
  {
   "cell_type": "code",
   "execution_count": 221,
   "metadata": {
    "collapsed": true
   },
   "outputs": [],
   "source": [
    "pred=gridsearchDT.predict(X_val)"
   ]
  },
  {
   "cell_type": "code",
   "execution_count": 222,
   "metadata": {},
   "outputs": [
    {
     "name": "stdout",
     "output_type": "stream",
     "text": [
      "0.7017526086516057\n"
     ]
    },
    {
     "data": {
      "text/plain": [
       "array([[6487,  283,   25],\n",
       "       [1930,  335,   46],\n",
       "       [ 455,  205,  105]])"
      ]
     },
     "execution_count": 222,
     "metadata": {},
     "output_type": "execute_result"
    }
   ],
   "source": [
    "print(accuracy_score(y_val, pred))\n",
    "from sklearn.metrics import confusion_matrix\n",
    "confusion_matrix(y_val, pred)"
   ]
  },
  {
   "cell_type": "code",
   "execution_count": 224,
   "metadata": {},
   "outputs": [
    {
     "data": {
      "image/png": "[encoded data removed]",
      "text/plain": [
       "<matplotlib.figure.Figure at 0x14256edd8>"
      ]
     },
     "metadata": {},
     "output_type": "display_data"
    }
   ],
   "source": [
    "fpr, tpr, threshold = metrics.roc_curve(y_val, pred,pos_label=1)\n",
    "roc_auc = metrics.auc(fpr, tpr)\n",
    "\n",
    "plt.title('ROC Curve DT')\n",
    "plt.plot(fpr, tpr, 'b', label = 'AUC = %0.2f' % roc_auc)\n",
    "plt.legend(loc = 'lower right')\n",
    "plt.plot([0, 1], [0, 1],'r--')\n",
    "plt.xlim([0, 1])\n",
    "plt.ylim([0, 1])\n",
    "plt.ylabel('True Positive Rate')\n",
    "plt.xlabel('False Positive Rate')\n",
    "\n",
    "plt.rcParams['figure.figsize'] = 12,12\n",
    "plt.show()\n"
   ]
  },
  {
   "cell_type": "markdown",
   "metadata": {},
   "source": [
    "# Logistic Regression"
   ]
  },
  {
   "cell_type": "code",
   "execution_count": 325,
   "metadata": {
    "collapsed": true
   },
   "outputs": [],
   "source": [
    "LREG_grid = [{'C': [0.5, 1, 1.5, 2], 'penalty': ['l1', 'l2']}]\n",
    "gridsearchLREG = GridSearchCV(LogisticRegression(), LREG_grid, cv=5)\n",
    "gridsearchLREG.fit(X_train, y_train)\n",
    "pred=gridsearchLREG.predict(X_val)\n",
    "\n"
   ]
  },
  {
   "cell_type": "code",
   "execution_count": 329,
   "metadata": {},
   "outputs": [
    {
     "name": "stdout",
     "output_type": "stream",
     "text": [
      "0.6904412137176434\n"
     ]
    }
   ],
   "source": [
    "print(accuracy_score(y_val, pred))\n"
   ]
  },
  {
   "cell_type": "code",
   "execution_count": null,
   "metadata": {
    "collapsed": true
   },
   "outputs": [],
   "source": []
  }
 ],
 "metadata": {
  "kernelspec": {
   "display_name": "Python 3",
   "language": "python",
   "name": "python3"
  },
  "language_info": {
   "codemirror_mode": {
    "name": "ipython",
    "version": 3
   },
   "file_extension": ".py",
   "mimetype": "text/x-python",
   "name": "python",
   "nbconvert_exporter": "python",
   "pygments_lexer": "ipython3",
   "version": "3.6.4"
  }
 },
 "nbformat": 4,
 "nbformat_minor": 2
}
